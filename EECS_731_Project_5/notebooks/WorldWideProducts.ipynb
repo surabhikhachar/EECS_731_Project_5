{
 "cells": [
  {
   "cell_type": "markdown",
   "metadata": {},
   "source": [
    "This notebook does some forecasting analysis on product demand using a certain level of time series analysis. "
   ]
  },
  {
   "cell_type": "code",
   "execution_count": 65,
   "metadata": {},
   "outputs": [],
   "source": [
    "import pandas as pd\n",
    "import matplotlib.pyplot as plt\n",
    "import seaborn as sns"
   ]
  },
  {
   "cell_type": "markdown",
   "metadata": {},
   "source": [
    "df = pd.read_csv('../data/raw/product_demand.csv')\n",
    "df.head(5)\n",
    "df.tail()"
   ]
  },
  {
   "cell_type": "markdown",
   "metadata": {},
   "source": [
    "We have to make sure all the data has a date, and want to drop the data without a date since that's probably the most important feature we're going to be working with. "
   ]
  },
  {
   "cell_type": "code",
   "execution_count": 66,
   "metadata": {},
   "outputs": [],
   "source": [
    "df.drop(df[df.Date.isnull()].index, inplace=True)"
   ]
  },
  {
   "cell_type": "code",
   "execution_count": 67,
   "metadata": {},
   "outputs": [
    {
     "data": {
      "text/html": [
       "<div>\n",
       "<style scoped>\n",
       "    .dataframe tbody tr th:only-of-type {\n",
       "        vertical-align: middle;\n",
       "    }\n",
       "\n",
       "    .dataframe tbody tr th {\n",
       "        vertical-align: top;\n",
       "    }\n",
       "\n",
       "    .dataframe thead th {\n",
       "        text-align: right;\n",
       "    }\n",
       "</style>\n",
       "<table border=\"1\" class=\"dataframe\">\n",
       "  <thead>\n",
       "    <tr style=\"text-align: right;\">\n",
       "      <th></th>\n",
       "      <th>Product_Code</th>\n",
       "      <th>Warehouse</th>\n",
       "      <th>Product_Category</th>\n",
       "      <th>Date</th>\n",
       "      <th>Order_Demand</th>\n",
       "      <th>day</th>\n",
       "      <th>month</th>\n",
       "      <th>year</th>\n",
       "    </tr>\n",
       "  </thead>\n",
       "  <tbody>\n",
       "    <tr>\n",
       "      <th>0</th>\n",
       "      <td>982</td>\n",
       "      <td>2</td>\n",
       "      <td>27</td>\n",
       "      <td>2012-07-27</td>\n",
       "      <td>100</td>\n",
       "      <td>27</td>\n",
       "      <td>7</td>\n",
       "      <td>2012</td>\n",
       "    </tr>\n",
       "    <tr>\n",
       "      <th>1</th>\n",
       "      <td>968</td>\n",
       "      <td>2</td>\n",
       "      <td>27</td>\n",
       "      <td>2012-01-19</td>\n",
       "      <td>500</td>\n",
       "      <td>19</td>\n",
       "      <td>1</td>\n",
       "      <td>2012</td>\n",
       "    </tr>\n",
       "    <tr>\n",
       "      <th>2</th>\n",
       "      <td>968</td>\n",
       "      <td>2</td>\n",
       "      <td>27</td>\n",
       "      <td>2012-02-03</td>\n",
       "      <td>500</td>\n",
       "      <td>3</td>\n",
       "      <td>2</td>\n",
       "      <td>2012</td>\n",
       "    </tr>\n",
       "    <tr>\n",
       "      <th>3</th>\n",
       "      <td>968</td>\n",
       "      <td>2</td>\n",
       "      <td>27</td>\n",
       "      <td>2012-02-09</td>\n",
       "      <td>500</td>\n",
       "      <td>9</td>\n",
       "      <td>2</td>\n",
       "      <td>2012</td>\n",
       "    </tr>\n",
       "    <tr>\n",
       "      <th>4</th>\n",
       "      <td>968</td>\n",
       "      <td>2</td>\n",
       "      <td>27</td>\n",
       "      <td>2012-03-02</td>\n",
       "      <td>500</td>\n",
       "      <td>2</td>\n",
       "      <td>3</td>\n",
       "      <td>2012</td>\n",
       "    </tr>\n",
       "  </tbody>\n",
       "</table>\n",
       "</div>"
      ],
      "text/plain": [
       "   Product_Code  Warehouse  Product_Category       Date  Order_Demand  day  \\\n",
       "0           982          2                27 2012-07-27           100   27   \n",
       "1           968          2                27 2012-01-19           500   19   \n",
       "2           968          2                27 2012-02-03           500    3   \n",
       "3           968          2                27 2012-02-09           500    9   \n",
       "4           968          2                27 2012-03-02           500    2   \n",
       "\n",
       "   month  year  \n",
       "0      7  2012  \n",
       "1      1  2012  \n",
       "2      2  2012  \n",
       "3      2  2012  \n",
       "4      3  2012  "
      ]
     },
     "execution_count": 67,
     "metadata": {},
     "output_type": "execute_result"
    }
   ],
   "source": [
    "df['Date'] = pd.to_datetime(df['Date'])\n",
    "df.head(5)"
   ]
  },
  {
   "cell_type": "markdown",
   "metadata": {},
   "source": [
    "That was easy enough. Looks like we should be able to access the day, month and year from the converted datetime objects now."
   ]
  },
  {
   "cell_type": "code",
   "execution_count": 68,
   "metadata": {},
   "outputs": [
    {
     "data": {
      "text/plain": [
       "Product_Code                 int64\n",
       "Warehouse                    int64\n",
       "Product_Category             int64\n",
       "Date                datetime64[ns]\n",
       "Order_Demand                 int64\n",
       "day                          int64\n",
       "month                        int64\n",
       "year                         int64\n",
       "dtype: object"
      ]
     },
     "execution_count": 68,
     "metadata": {},
     "output_type": "execute_result"
    }
   ],
   "source": [
    "df.dtypes"
   ]
  },
  {
   "cell_type": "markdown",
   "metadata": {},
   "source": [
    "I'll now use a label encoder to give numerical values to the rest of the features making them much easier to work with. "
   ]
  },
  {
   "cell_type": "code",
   "execution_count": 69,
   "metadata": {},
   "outputs": [],
   "source": [
    "from sklearn.preprocessing import LabelEncoder\n",
    "#encoding all other features for classification purposes\n",
    "le = LabelEncoder()\n",
    "le.fit(df['Product_Code'])\n",
    "df['Product_Code'] = le.transform(df['Product_Code'])\n",
    "le.fit(df['Warehouse'])\n",
    "df['Warehouse'] = le.transform(df['Warehouse'])\n",
    "le.fit(df['Product_Category'])\n",
    "df['Product_Category'] = le.transform(df['Product_Category'])"
   ]
  },
  {
   "cell_type": "code",
   "execution_count": 70,
   "metadata": {},
   "outputs": [],
   "source": [
    "#df[\"seasons\"] = \"\"\n",
    "#del df['seasons']\n",
    "#df.head(5)"
   ]
  },
  {
   "cell_type": "code",
   "execution_count": 71,
   "metadata": {},
   "outputs": [
    {
     "data": {
      "text/html": [
       "<div>\n",
       "<style scoped>\n",
       "    .dataframe tbody tr th:only-of-type {\n",
       "        vertical-align: middle;\n",
       "    }\n",
       "\n",
       "    .dataframe tbody tr th {\n",
       "        vertical-align: top;\n",
       "    }\n",
       "\n",
       "    .dataframe thead th {\n",
       "        text-align: right;\n",
       "    }\n",
       "</style>\n",
       "<table border=\"1\" class=\"dataframe\">\n",
       "  <thead>\n",
       "    <tr style=\"text-align: right;\">\n",
       "      <th></th>\n",
       "      <th>Product_Code</th>\n",
       "      <th>Warehouse</th>\n",
       "      <th>Product_Category</th>\n",
       "      <th>Date</th>\n",
       "      <th>Order_Demand</th>\n",
       "      <th>day</th>\n",
       "      <th>month</th>\n",
       "      <th>year</th>\n",
       "    </tr>\n",
       "  </thead>\n",
       "  <tbody>\n",
       "    <tr>\n",
       "      <th>0</th>\n",
       "      <td>982</td>\n",
       "      <td>2</td>\n",
       "      <td>27</td>\n",
       "      <td>2012-07-27</td>\n",
       "      <td>100</td>\n",
       "      <td>27</td>\n",
       "      <td>7</td>\n",
       "      <td>2012</td>\n",
       "    </tr>\n",
       "    <tr>\n",
       "      <th>1</th>\n",
       "      <td>968</td>\n",
       "      <td>2</td>\n",
       "      <td>27</td>\n",
       "      <td>2012-01-19</td>\n",
       "      <td>500</td>\n",
       "      <td>19</td>\n",
       "      <td>1</td>\n",
       "      <td>2012</td>\n",
       "    </tr>\n",
       "    <tr>\n",
       "      <th>2</th>\n",
       "      <td>968</td>\n",
       "      <td>2</td>\n",
       "      <td>27</td>\n",
       "      <td>2012-02-03</td>\n",
       "      <td>500</td>\n",
       "      <td>3</td>\n",
       "      <td>2</td>\n",
       "      <td>2012</td>\n",
       "    </tr>\n",
       "    <tr>\n",
       "      <th>3</th>\n",
       "      <td>968</td>\n",
       "      <td>2</td>\n",
       "      <td>27</td>\n",
       "      <td>2012-02-09</td>\n",
       "      <td>500</td>\n",
       "      <td>9</td>\n",
       "      <td>2</td>\n",
       "      <td>2012</td>\n",
       "    </tr>\n",
       "    <tr>\n",
       "      <th>4</th>\n",
       "      <td>968</td>\n",
       "      <td>2</td>\n",
       "      <td>27</td>\n",
       "      <td>2012-03-02</td>\n",
       "      <td>500</td>\n",
       "      <td>2</td>\n",
       "      <td>3</td>\n",
       "      <td>2012</td>\n",
       "    </tr>\n",
       "  </tbody>\n",
       "</table>\n",
       "</div>"
      ],
      "text/plain": [
       "   Product_Code  Warehouse  Product_Category       Date  Order_Demand  day  \\\n",
       "0           982          2                27 2012-07-27           100   27   \n",
       "1           968          2                27 2012-01-19           500   19   \n",
       "2           968          2                27 2012-02-03           500    3   \n",
       "3           968          2                27 2012-02-09           500    9   \n",
       "4           968          2                27 2012-03-02           500    2   \n",
       "\n",
       "   month  year  \n",
       "0      7  2012  \n",
       "1      1  2012  \n",
       "2      2  2012  \n",
       "3      2  2012  \n",
       "4      3  2012  "
      ]
     },
     "execution_count": 71,
     "metadata": {},
     "output_type": "execute_result"
    }
   ],
   "source": [
    "#The individual day, month, and year could be useful in a time series analysis. Another feature\n",
    "#that I can see being added is what season the product was ordered; this could show a lot of insight.\n",
    "df['day'] = df['Date'].dt.day\n",
    "df['month'] = df['Date'].dt.month\n",
    "df['year'] = df['Date'].dt.year\n",
    "df.head(5)"
   ]
  },
  {
   "cell_type": "code",
   "execution_count": 72,
   "metadata": {},
   "outputs": [],
   "source": [
    "#splitting the data between train and test on the 80/20 split like discussed in class. \n",
    "from sklearn.model_selection import train_test_split\n",
    "labels = df['Order_Demand']\n",
    "#initially going to test against a few features, not all of them.\n",
    "features = df[['year' , 'month', 'Product_Code', 'Product_Category', 'Warehouse']]\n",
    "X_train, X_test, y_train, y_test = train_test_split(features, \n",
    "                                                    labels, \n",
    "                                                    test_size=0.20, \n",
    "                                                    random_state=42)"
   ]
  },
  {
   "cell_type": "code",
   "execution_count": 73,
   "metadata": {},
   "outputs": [],
   "source": [
    "#Had to do a little conversion here becuase Order_Demand was not numeric, it was type object. \n",
    "df['Order_Demand'] = pd.to_numeric(df['Order_Demand'], errors='coerce')\n",
    "df.dtypes\n",
    "df.isnull().values.any()\n",
    "#when this was run, it returned true, meaning that there were some missing values in the dataframe\n",
    "#using dropna to remove any missing values\n",
    "df = df.dropna()\n",
    "#conversion to type int so it can be used in the regression models\n",
    "df['Order_Demand'] = df['Order_Demand'].astype(int)"
   ]
  },
  {
   "cell_type": "markdown",
   "metadata": {},
   "source": [
    "The first model I will try to use is a Gradient Boosting Regression model, imported from Scikit Learn. "
   ]
  },
  {
   "cell_type": "code",
   "execution_count": 83,
   "metadata": {},
   "outputs": [
    {
     "name": "stdout",
     "output_type": "stream",
     "text": [
      "0.10986028296246353\n"
     ]
    }
   ],
   "source": [
    "from sklearn.ensemble import GradientBoostingRegressor\n",
    "GBR = GradientBoostingRegressor()\n",
    "model = GBR.fit(X_train, y_train.values.ravel())\n",
    "#Predicting the label of the new data set\n",
    "prediction = model.predict(X_test)\n",
    "print(GBR.score(X_test, y_test))"
   ]
  },
  {
   "cell_type": "markdown",
   "metadata": {},
   "source": [
    "Looks like the Gradient Boosting Regression model wasn't the best for this. I'll try a different model to see if it results in better accuracy. "
   ]
  },
  {
   "cell_type": "code",
   "execution_count": 85,
   "metadata": {},
   "outputs": [
    {
     "name": "stdout",
     "output_type": "stream",
     "text": [
      "0.10286005892698447\n"
     ]
    }
   ],
   "source": [
    "from sklearn.ensemble import RandomForestRegressor\n",
    "RFR = RandomForestRegressor()\n",
    "model = RFR.fit(X_train, y_train.values.ravel())\n",
    "#Predicting the label of the new data set\n",
    "prediction = model.predict(X_test)\n",
    "print(RFR.score(X_test, y_test))"
   ]
  },
  {
   "cell_type": "markdown",
   "metadata": {},
   "source": [
    "Hm, didn't seem to like that one either. One thing I can think of is that a lot more features were added in prior to creating the models (breaking down the datetime to day, month, and year). This could potentially be a reason for the low accuracy scores. Another reason, as we discussed, could be potentially be overfitting. However, we seem to have plenty of training data so now sure if this is really what's causing this."
   ]
  }
 ],
 "metadata": {
  "kernelspec": {
   "display_name": "Python 3",
   "language": "python",
   "name": "python3"
  }
 },
 "nbformat": 4,
 "nbformat_minor": 2
}
